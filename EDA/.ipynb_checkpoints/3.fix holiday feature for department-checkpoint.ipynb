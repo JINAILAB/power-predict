{
 "cells": [
  {
   "cell_type": "code",
   "execution_count": 94,
   "id": "3920216e",
   "metadata": {},
   "outputs": [],
   "source": [
    "import pandas as pd\n",
    "import matplotlib.pyplot as plt\n",
    "from scipy.signal import argrelextrema\n",
    "import numpy as np\n",
    "from datetime import datetime, timedelta\n",
    "from pandas.core.common import SettingWithCopyWarning\n",
    "import warnings"
   ]
  },
  {
   "cell_type": "code",
   "execution_count": 95,
   "id": "8f7e98f3",
   "metadata": {},
   "outputs": [],
   "source": [
    "warnings.simplefilter(action=\"ignore\", category=SettingWithCopyWarning)"
   ]
  },
  {
   "cell_type": "code",
   "execution_count": 96,
   "id": "357b49ac",
   "metadata": {},
   "outputs": [],
   "source": [
    "df = pd.read_csv('../data_file/isolate_merge_df.csv')"
   ]
  },
  {
   "cell_type": "code",
   "execution_count": 207,
   "id": "661e9c0d",
   "metadata": {},
   "outputs": [],
   "source": [
    "def find_holiday(df, i):\n",
    "    building_df = df[df['building_number'] == i]\n",
    "    building_df.set_index('date_time', inplace=True)\n",
    "    building_df_daily_max = building_df.resample('D').max()\n",
    "    # 평균\n",
    "    avg_pwr = (building_df_daily_max['power_consumption'].max() + building_df_daily_max['power_consumption'].min())/2\n",
    "    \n",
    "    # local minima 찾기\n",
    "    comparator = np.less\n",
    "    local_minima_indices = argrelextrema(building_df_daily_max['power_consumption'].values, comparator)\n",
    "    local_minima = building_df_daily_max['power_consumption'].iloc[local_minima_indices]\n",
    "    local_minima = local_minima[local_minima < avg_pwr]\n",
    "    #print(local_minima)\n",
    "    \n",
    "    building_df['holiday'] = 0\n",
    "    for i in local_minima.index:\n",
    "        building_df.loc[building_df.index[(building_df.index >= i) & (building_df.index  < (i + timedelta(days=1)))], 'holiday'] =1\n",
    "    \n",
    "    df[df['building_number'] == i]['holiday'] = building_df['holiday']\n",
    "    return df\n",
    "    \n",
    "    "
   ]
  },
  {
   "cell_type": "code",
   "execution_count": 208,
   "id": "7badf1d5",
   "metadata": {},
   "outputs": [],
   "source": [
    "for i in range(37, 43):\n",
    "    df = find_holiday(df, i)"
   ]
  },
  {
   "cell_type": "code",
   "execution_count": null,
   "id": "d6c2fe1c",
   "metadata": {},
   "outputs": [],
   "source": []
  },
  {
   "cell_type": "code",
   "execution_count": null,
   "id": "9d6ac7bb",
   "metadata": {},
   "outputs": [],
   "source": []
  },
  {
   "cell_type": "code",
   "execution_count": null,
   "id": "acb49c8a",
   "metadata": {},
   "outputs": [],
   "source": []
  },
  {
   "cell_type": "code",
   "execution_count": null,
   "id": "217f6c18",
   "metadata": {},
   "outputs": [],
   "source": []
  },
  {
   "cell_type": "code",
   "execution_count": null,
   "id": "a77cc517",
   "metadata": {},
   "outputs": [],
   "source": []
  }
 ],
 "metadata": {
  "kernelspec": {
   "display_name": "Python 3 (ipykernel)",
   "language": "python",
   "name": "python3"
  },
  "language_info": {
   "codemirror_mode": {
    "name": "ipython",
    "version": 3
   },
   "file_extension": ".py",
   "mimetype": "text/x-python",
   "name": "python",
   "nbconvert_exporter": "python",
   "pygments_lexer": "ipython3",
   "version": "3.8.12"
  }
 },
 "nbformat": 4,
 "nbformat_minor": 5
}
