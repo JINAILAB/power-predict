{
 "cells": [
  {
   "cell_type": "code",
   "execution_count": 1,
   "id": "c14f0d3b-8c28-455a-a1d9-5819664988c3",
   "metadata": {},
   "outputs": [],
   "source": [
    "import pandas as pd\n",
    "import matplotlib.pyplot as plt\n",
    "from scipy.signal import argrelextrema\n",
    "import numpy as np\n",
    "from datetime import datetime, timedelta\n",
    "#from pandas.core.common import SettingWithCopyWarning\n",
    "import warnings"
   ]
  },
  {
   "cell_type": "code",
   "execution_count": 12,
   "id": "2c741261-bd1b-43d3-bce7-7ee7f3699fff",
   "metadata": {},
   "outputs": [],
   "source": [
    "data = pd.read_csv('../data_file/fix_holiday_feature_train.csv')"
   ]
  },
  {
   "cell_type": "markdown",
   "id": "0e07c79d-a1b3-4557-8ce8-cc3ca3e0e57d",
   "metadata": {},
   "source": [
    "## holiday를 drop해주자."
   ]
  },
  {
   "cell_type": "code",
   "execution_count": 13,
   "id": "893412f9-9c66-4b92-aea3-756754ce898b",
   "metadata": {},
   "outputs": [],
   "source": [
    "filtered_data = data[~((data['building_number'] >= 37) & (data['building_number'] <= 43) & (data['holiday'] == 1))]"
   ]
  },
  {
   "cell_type": "markdown",
   "id": "103d13b2-c89e-4017-b2fc-946d440a5570",
   "metadata": {},
   "source": [
    "## 어느 날들이 drop 됐을까?\n"
   ]
  },
  {
   "cell_type": "code",
   "execution_count": 15,
   "id": "788d2a1e-36c0-40a9-a71d-c5ea19831523",
   "metadata": {},
   "outputs": [],
   "source": [
    "# i is building number\n",
    "def find_dropdate(i):\n",
    "    original_dates = data[(data['building_number'] == i)& (data['holiday'] == 1)]['date_time'].apply(lambda x: x.split()[0]).unique()\n",
    "    \n",
    "    filtered_dates = filtered_data[(filtered_data['building_number'] == i)]['date_time'].apply(lambda x: x.split()[0]).unique()\n",
    "    # Find the dates that were dropped\n",
    "    dropped_dates = set(original_dates) - set(filtered_dates)\n",
    "\n",
    "    return dropped_dates"
   ]
  },
  {
   "cell_type": "code",
   "execution_count": 17,
   "id": "d5fbcf73-d09f-463c-902f-2fc5b33fe345",
   "metadata": {},
   "outputs": [
    {
     "data": {
      "text/plain": [
       "{'2022-06-01',\n",
       " '2022-06-04',\n",
       " '2022-06-05',\n",
       " '2022-06-06',\n",
       " '2022-06-11',\n",
       " '2022-06-12',\n",
       " '2022-06-18',\n",
       " '2022-06-19',\n",
       " '2022-06-25',\n",
       " '2022-06-26',\n",
       " '2022-07-02',\n",
       " '2022-07-03',\n",
       " '2022-07-09',\n",
       " '2022-07-10',\n",
       " '2022-07-16',\n",
       " '2022-07-17',\n",
       " '2022-07-23',\n",
       " '2022-07-24',\n",
       " '2022-07-30',\n",
       " '2022-07-31',\n",
       " '2022-08-06',\n",
       " '2022-08-07',\n",
       " '2022-08-13',\n",
       " '2022-08-14',\n",
       " '2022-08-15',\n",
       " '2022-08-20',\n",
       " '2022-08-21'}"
      ]
     },
     "execution_count": 17,
     "metadata": {},
     "output_type": "execute_result"
    }
   ],
   "source": [
    "find_dropdate(37)"
   ]
  },
  {
   "cell_type": "code",
   "execution_count": 18,
   "id": "9d5d06be-ff15-4e00-9780-e492187e1e04",
   "metadata": {},
   "outputs": [
    {
     "data": {
      "text/plain": [
       "{'2022-06-01',\n",
       " '2022-06-04',\n",
       " '2022-06-05',\n",
       " '2022-06-06',\n",
       " '2022-06-11',\n",
       " '2022-06-12',\n",
       " '2022-06-18',\n",
       " '2022-06-19',\n",
       " '2022-06-25',\n",
       " '2022-06-26',\n",
       " '2022-07-02',\n",
       " '2022-07-03',\n",
       " '2022-07-09',\n",
       " '2022-07-10',\n",
       " '2022-07-16',\n",
       " '2022-07-17',\n",
       " '2022-07-23',\n",
       " '2022-07-24',\n",
       " '2022-07-30',\n",
       " '2022-07-31',\n",
       " '2022-08-06',\n",
       " '2022-08-07',\n",
       " '2022-08-13',\n",
       " '2022-08-14',\n",
       " '2022-08-15',\n",
       " '2022-08-20',\n",
       " '2022-08-21'}"
      ]
     },
     "execution_count": 18,
     "metadata": {},
     "output_type": "execute_result"
    }
   ],
   "source": [
    "find_dropdate(38)"
   ]
  },
  {
   "cell_type": "code",
   "execution_count": null,
   "id": "f5158422-c37e-4f68-bc10-9016260e5562",
   "metadata": {},
   "outputs": [],
   "source": []
  }
 ],
 "metadata": {
  "kernelspec": {
   "display_name": "Python 3 (ipykernel)",
   "language": "python",
   "name": "python3"
  },
  "language_info": {
   "codemirror_mode": {
    "name": "ipython",
    "version": 3
   },
   "file_extension": ".py",
   "mimetype": "text/x-python",
   "name": "python",
   "nbconvert_exporter": "python",
   "pygments_lexer": "ipython3",
   "version": "3.10.1"
  }
 },
 "nbformat": 4,
 "nbformat_minor": 5
}
