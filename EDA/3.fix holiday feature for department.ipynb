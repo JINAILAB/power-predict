{
 "cells": [
  {
   "cell_type": "code",
   "execution_count": 1,
   "id": "3920216e",
   "metadata": {},
   "outputs": [],
   "source": [
    "import pandas as pd\n",
    "import matplotlib.pyplot as plt\n",
    "from scipy.signal import argrelextrema\n",
    "import numpy as np\n",
    "from datetime import datetime, timedelta\n",
    "from pandas.core.common import SettingWithCopyWarning\n",
    "import warnings"
   ]
  },
  {
   "cell_type": "code",
   "execution_count": 2,
   "id": "673d53c6",
   "metadata": {},
   "outputs": [],
   "source": [
    "warnings.simplefilter(action=\"ignore\", category=SettingWithCopyWarning)"
   ]
  },
  {
   "cell_type": "code",
   "execution_count": 3,
   "id": "357b49ac",
   "metadata": {},
   "outputs": [],
   "source": [
    "df = pd.read_csv('../data_file/isolate_merge_df.csv')"
   ]
  },
  {
   "cell_type": "code",
   "execution_count": 4,
   "id": "fa5b15d5",
   "metadata": {},
   "outputs": [],
   "source": [
    "test_df = pd.read_csv('../data_file/fill_na_test.csv')"
   ]
  },
  {
   "cell_type": "markdown",
   "id": "f5b31429",
   "metadata": {},
   "source": [
    "### holiday 37부터 43은 이상한 양상을 띈다. 기존 holiday feature를 극솟값에 대해서 0이되게 수정"
   ]
  },
  {
   "cell_type": "code",
   "execution_count": 5,
   "id": "14a59ba0",
   "metadata": {},
   "outputs": [],
   "source": [
    "def find_holiday(df, i):\n",
    "    building_df = df[df['building_number'] == i]\n",
    "    building_df['date_time'] = pd.to_datetime(building_df['date_time'], format='%Y%m%d %H')\n",
    "    building_df.set_index('date_time', inplace=True)\n",
    "    building_df_daily_max = building_df.resample('D').max()\n",
    "    # 평균\n",
    "    avg_pwr = (building_df_daily_max['power_consumption'].max() + building_df_daily_max['power_consumption'].min())/2\n",
    "    \n",
    "    # local minima 찾기\n",
    "    comparator = np.less\n",
    "    local_minima_indices = argrelextrema(building_df_daily_max['power_consumption'].values, comparator)\n",
    "    local_minima = building_df_daily_max['power_consumption'].iloc[local_minima_indices]\n",
    "    local_minima = local_minima[local_minima < avg_pwr]\n",
    "    #print(local_minima)\n",
    "    \n",
    "    building_df['holiday'] = 0\n",
    "    for i in local_minima.index:\n",
    "        building_df.loc[building_df.index[(building_df.index >= i) & (building_df.index  < (i + timedelta(days=1)))], 'holiday'] =1\n",
    "    \n",
    "    df[df['building_number'] == i]['holiday'] = building_df['holiday']\n",
    "    return df\n",
    "    \n",
    "    "
   ]
  },
  {
   "cell_type": "markdown",
   "id": "584bcb10",
   "metadata": {},
   "source": [
    "### test set은 다 0으로 수정(휴일없음)"
   ]
  },
  {
   "cell_type": "code",
   "execution_count": 6,
   "id": "1ac9f9a7",
   "metadata": {},
   "outputs": [],
   "source": [
    "for i in range(37, 43):\n",
    "    test_df[test_df['building_number'] == i]['holiday'] = 0"
   ]
  },
  {
   "cell_type": "markdown",
   "id": "7b633dcf",
   "metadata": {},
   "source": [
    "### train set 수정"
   ]
  },
  {
   "cell_type": "code",
   "execution_count": 7,
   "id": "ad3fe0db",
   "metadata": {},
   "outputs": [],
   "source": [
    "for i in range(37, 43):\n",
    "    df = find_holiday(df, i)"
   ]
  },
  {
   "cell_type": "code",
   "execution_count": 8,
   "id": "ad29ff64",
   "metadata": {},
   "outputs": [],
   "source": [
    "test_df.to_csv('../data_file/fix_holiday_feature_test.csv', index=False)"
   ]
  },
  {
   "cell_type": "code",
   "execution_count": 9,
   "id": "d0061273",
   "metadata": {},
   "outputs": [],
   "source": [
    "df.to_csv('../data_file/fix_holiday_feature_train.csv', index=False)"
   ]
  },
  {
   "cell_type": "code",
   "execution_count": null,
   "id": "e59c1d2b",
   "metadata": {},
   "outputs": [],
   "source": []
  },
  {
   "cell_type": "code",
   "execution_count": null,
   "id": "81d5585a",
   "metadata": {},
   "outputs": [],
   "source": []
  },
  {
   "cell_type": "code",
   "execution_count": null,
   "id": "a22fcf94",
   "metadata": {},
   "outputs": [],
   "source": []
  },
  {
   "cell_type": "code",
   "execution_count": null,
   "id": "5c3bc02d",
   "metadata": {},
   "outputs": [],
   "source": []
  }
 ],
 "metadata": {
  "kernelspec": {
   "display_name": "Python 3 (ipykernel)",
   "language": "python",
   "name": "python3"
  },
  "language_info": {
   "codemirror_mode": {
    "name": "ipython",
    "version": 3
   },
   "file_extension": ".py",
   "mimetype": "text/x-python",
   "name": "python",
   "nbconvert_exporter": "python",
   "pygments_lexer": "ipython3",
   "version": "3.8.12"
  }
 },
 "nbformat": 4,
 "nbformat_minor": 5
}
