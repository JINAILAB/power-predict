{
 "cells": [
  {
   "cell_type": "code",
   "execution_count": 62,
   "id": "3920216e",
   "metadata": {},
   "outputs": [],
   "source": [
    "import pandas as pd\n",
    "import matplotlib.pyplot as plt\n",
    "from scipy.signal import argrelextrema\n",
    "import numpy as np\n",
    "from datetime import datetime, timedelta\n",
    "import warnings"
   ]
  },
  {
   "cell_type": "code",
   "execution_count": 63,
   "id": "673d53c6",
   "metadata": {},
   "outputs": [],
   "source": [
    "# warnings.simplefilter(action=\"ignore\", category=SettingWithCopyWarning)"
   ]
  },
  {
   "cell_type": "code",
   "execution_count": 64,
   "id": "357b49ac",
   "metadata": {},
   "outputs": [],
   "source": [
    "df = pd.read_csv('../data_file/isolate_merge_df.csv')"
   ]
  },
  {
   "cell_type": "code",
   "execution_count": 65,
   "id": "fa5b15d5",
   "metadata": {},
   "outputs": [],
   "source": [
    "test_df = pd.read_csv('../data_file/fill_na_test.csv')"
   ]
  },
  {
   "cell_type": "markdown",
   "id": "f5b31429",
   "metadata": {},
   "source": [
    "### holiday 37부터 43은 이상한 양상을 띈다. 기존 holiday feature를 극솟값에 대해서 0이되게 수정"
   ]
  },
  {
   "cell_type": "code",
   "execution_count": 66,
   "id": "d32f42d1-2a85-40e6-8fe1-a11510054345",
   "metadata": {},
   "outputs": [
    {
     "data": {
      "text/plain": [
       "0         2022-06-01 00:00:00\n",
       "1         2022-06-01 01:00:00\n",
       "2         2022-06-01 02:00:00\n",
       "3         2022-06-01 03:00:00\n",
       "4         2022-06-01 04:00:00\n",
       "                 ...         \n",
       "200971    2022-08-24 19:00:00\n",
       "200972    2022-08-24 20:00:00\n",
       "200973    2022-08-24 21:00:00\n",
       "200974    2022-08-24 22:00:00\n",
       "200975    2022-08-24 23:00:00\n",
       "Name: date_time, Length: 200976, dtype: object"
      ]
     },
     "execution_count": 66,
     "metadata": {},
     "output_type": "execute_result"
    }
   ],
   "source": [
    "df['date_time']"
   ]
  },
  {
   "cell_type": "code",
   "execution_count": 67,
   "id": "14a59ba0",
   "metadata": {},
   "outputs": [],
   "source": [
    "def find_holiday(df, i):\n",
    "    building_df = df[df['building_number'] == i]\n",
    "    building_df.loc[:, ['date_time']] = pd.to_datetime(building_df['date_time'], format='%Y-%m-%d %H:00:00')\n",
    "    building_df.set_index('date_time', inplace=True)\n",
    "    building_df_daily_max = building_df.resample('D').max()\n",
    "    # 평균\n",
    "    avg_pwr = (building_df_daily_max['power_consumption'].max() + building_df_daily_max['power_consumption'].min())/2\n",
    "    \n",
    "    # local minima 찾기\n",
    "    comparator = np.less\n",
    "    local_minima_indices = argrelextrema(building_df_daily_max['power_consumption'].values, comparator)\n",
    "    local_minima = building_df_daily_max['power_consumption'].iloc[local_minima_indices]\n",
    "    local_minima = local_minima[local_minima < avg_pwr]\n",
    "    #print(local_minima)\n",
    "    \n",
    "    building_df.loc[:, 'holiday'] = 0\n",
    "    for i in local_minima.index:\n",
    "        building_df.loc[building_df.index[(building_df.index >= i) & (building_df.index  < (i + timedelta(days=1)))], 'holiday'] = 1\n",
    "    \n",
    "    return building_df\n",
    "    \n",
    "    "
   ]
  },
  {
   "cell_type": "markdown",
   "id": "584bcb10",
   "metadata": {},
   "source": [
    "### test set은 다 0으로 수정(휴일없음)"
   ]
  },
  {
   "cell_type": "code",
   "execution_count": 68,
   "id": "1ac9f9a7",
   "metadata": {},
   "outputs": [
    {
     "name": "stderr",
     "output_type": "stream",
     "text": [
      "/var/folders/__/r8r58jz17gj32tjwycl0m0hr0000gn/T/ipykernel_6364/1100254188.py:2: SettingWithCopyWarning: \n",
      "A value is trying to be set on a copy of a slice from a DataFrame.\n",
      "Try using .loc[row_indexer,col_indexer] = value instead\n",
      "\n",
      "See the caveats in the documentation: https://pandas.pydata.org/pandas-docs/stable/user_guide/indexing.html#returning-a-view-versus-a-copy\n",
      "  test_df[test_df['building_number'] == i]['holiday'] = 0\n"
     ]
    }
   ],
   "source": [
    "for i in range(37, 43):\n",
    "    test_df[test_df['building_number'] == i]['holiday'] = 0"
   ]
  },
  {
   "cell_type": "markdown",
   "id": "7b633dcf",
   "metadata": {},
   "source": [
    "### train set 수정"
   ]
  },
  {
   "cell_type": "code",
   "execution_count": 69,
   "id": "ad3fe0db",
   "metadata": {},
   "outputs": [],
   "source": [
    "for i in range(37, 43):\n",
    "    building_df = find_holiday(df, i)\n",
    "    df.loc[df['building_number'] == i, 'holiday'] = building_df['holiday'].values"
   ]
  },
  {
   "cell_type": "code",
   "execution_count": 70,
   "id": "ad29ff64",
   "metadata": {},
   "outputs": [],
   "source": [
    "test_df.to_csv('../data_file/fix_holiday_feature_test.csv', index=False)"
   ]
  },
  {
   "cell_type": "code",
   "execution_count": 71,
   "id": "d0061273",
   "metadata": {},
   "outputs": [],
   "source": [
    "df.to_csv('../data_file/fix_holiday_feature_train.csv', index=False)"
   ]
  },
  {
   "cell_type": "code",
   "execution_count": 72,
   "id": "e59c1d2b",
   "metadata": {},
   "outputs": [],
   "source": [
    "test_df = pd.read_csv('../data_file/fix_holiday_feature_test.csv')"
   ]
  },
  {
   "cell_type": "code",
   "execution_count": 73,
   "id": "81d5585a",
   "metadata": {},
   "outputs": [],
   "source": [
    "train_df = pd.read_csv('../data_file/fix_holiday_feature_train.csv')"
   ]
  },
  {
   "cell_type": "code",
   "execution_count": 7,
   "id": "a22fcf94",
   "metadata": {},
   "outputs": [
    {
     "data": {
      "text/plain": [
       "Index(['date_time', 'building_number', 'temperature', 'rainfall', 'windspeed',\n",
       "       'humidity', 'power_consumption', 'building_type', 'total_area',\n",
       "       'cooling_area', 'solar_power_capacity', 'day', 'week_of_month',\n",
       "       'day_hour_mean', 'hour_mean', 'hour_std', 'rainfall_any',\n",
       "       'discomfort_index', 'cdh', 'week', 'sin_time', 'cos_time', 'holiday',\n",
       "       'upper_outliers', 'lower_outliers', 'outliers', 'anomaly'],\n",
       "      dtype='object')"
      ]
     },
     "execution_count": 7,
     "metadata": {},
     "output_type": "execute_result"
    }
   ],
   "source": [
    "train_df.columns"
   ]
  },
  {
   "cell_type": "code",
   "execution_count": null,
   "id": "5c3bc02d",
   "metadata": {},
   "outputs": [],
   "source": []
  }
 ],
 "metadata": {
  "kernelspec": {
   "display_name": "Python 3 (ipykernel)",
   "language": "python",
   "name": "python3"
  },
  "language_info": {
   "codemirror_mode": {
    "name": "ipython",
    "version": 3
   },
   "file_extension": ".py",
   "mimetype": "text/x-python",
   "name": "python",
   "nbconvert_exporter": "python",
   "pygments_lexer": "ipython3",
   "version": "3.10.1"
  }
 },
 "nbformat": 4,
 "nbformat_minor": 5
}
